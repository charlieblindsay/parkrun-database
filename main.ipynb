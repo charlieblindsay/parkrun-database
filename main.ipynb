{
 "cells": [
  {
   "cell_type": "code",
   "execution_count": 37,
   "metadata": {},
   "outputs": [],
   "source": [
    "from bs4 import BeautifulSoup\n",
    "import requests\n",
    "import sqlite3\n",
    "from sqlite3 import Error\n",
    "\n",
    "from selenium import webdriver\n",
    "from selenium.webdriver.common.keys import Keys\n",
    "from selenium.webdriver.common.by import By\n",
    "\n",
    "import re"
   ]
  },
  {
   "cell_type": "code",
   "execution_count": 38,
   "metadata": {},
   "outputs": [
    {
     "name": "stderr",
     "output_type": "stream",
     "text": [
      "C:\\Users\\Charlie\\AppData\\Local\\Temp\\ipykernel_23468\\2495893305.py:2: DeprecationWarning: executable_path has been deprecated, please pass in a Service object\n",
      "  driver = webdriver.Chrome(executable_path=chrome_driver_path)\n"
     ]
    }
   ],
   "source": [
    "chrome_driver_path = 'C:\\Developer\\chromedriver'\n",
    "driver = webdriver.Chrome(executable_path=chrome_driver_path)"
   ]
  },
  {
   "cell_type": "code",
   "execution_count": 39,
   "metadata": {},
   "outputs": [],
   "source": [
    "def create_connection(db_file):\n",
    "    \"\"\" create a database connection to a SQLite database \"\"\"\n",
    "    conn = None\n",
    "    try:\n",
    "        conn = sqlite3.connect(db_file)\n",
    "    except Error as e:\n",
    "        print(e)\n",
    "    finally:\n",
    "        if conn:\n",
    "            return conn"
   ]
  },
  {
   "cell_type": "code",
   "execution_count": 40,
   "metadata": {},
   "outputs": [],
   "source": [
    "def create_table(conn, create_table_sql):\n",
    "    \"\"\" create a table from the create_table_sql statement\n",
    "    :param conn: Connection object\n",
    "    :param create_table_sql: a CREATE TABLE statement\n",
    "    :return:\n",
    "    \"\"\"\n",
    "    try:\n",
    "        c = conn.cursor()\n",
    "        c.execute(create_table_sql)\n",
    "    except Error as e:\n",
    "        print(e)"
   ]
  },
  {
   "cell_type": "code",
   "execution_count": 41,
   "metadata": {},
   "outputs": [],
   "source": [
    "conn = create_connection(\"parkruns.db\")\n",
    "\n",
    "sql_create_parkrun_table = \"\"\" CREATE TABLE IF NOT EXISTS parkruns (\n",
    "                                    id integer PRIMARY KEY,\n",
    "                                    name text NOT NULL UNIQUE,\n",
    "                                    postcode text\n",
    "                                ); \"\"\"\n",
    "\n",
    "if conn is not None:\n",
    "    # create projects table\n",
    "    create_table(conn, sql_create_parkrun_table)\n",
    "\n",
    "else:\n",
    "    print(\"Error! cannot create the database connection.\")"
   ]
  },
  {
   "cell_type": "code",
   "execution_count": 42,
   "metadata": {},
   "outputs": [],
   "source": [
    "def create_parkrun(conn, parkrun, parkrun_postcode):\n",
    "    \"\"\"\n",
    "    Create a new project into the parkruns table\n",
    "    :param conn:\n",
    "    :param parkrun:\n",
    "    :return: project id\n",
    "    \"\"\"\n",
    "    sql = ''' INSERT INTO parkruns(name, postcode)\n",
    "              VALUES(?,?) '''\n",
    "    cur = conn.cursor()\n",
    "    \n",
    "    # When you are inserting one column value into each row, insert value like this so is interpreted as a tuple and not as an input sequence\n",
    "    cur.execute(sql, (parkrun, parkrun_postcode))\n",
    "    conn.commit()\n",
    "    return cur.lastrowid"
   ]
  },
  {
   "cell_type": "code",
   "execution_count": 43,
   "metadata": {},
   "outputs": [],
   "source": [
    "def select_all_parkruns(conn):\n",
    "    \"\"\"\n",
    "    Query all rows in the parkruns table\n",
    "    :param conn: the Connection object\n",
    "    :return:\n",
    "    \"\"\"\n",
    "    cur = conn.cursor()\n",
    "    cur.execute(\"SELECT * FROM parkruns\")\n",
    "\n",
    "    rows = cur.fetchall()\n",
    "\n",
    "    for row in rows:\n",
    "        print(row)"
   ]
  },
  {
   "cell_type": "code",
   "execution_count": 44,
   "metadata": {},
   "outputs": [],
   "source": [
    "def get_postcode(driver, parkrun_name):\n",
    "    park_name = parkrun_name[:-3]\n",
    "\n",
    "    search_text = f'{park_name} post code'\n",
    "\n",
    "    driver.get('https://www.google.com/')\n",
    "\n",
    "    driver.find_element_by_xpath('//*[@id=\"L2AGLb\"]').click()\n",
    "\n",
    "    google_search_input_field = driver.find_element(by=By.NAME, value='q')\n",
    "    google_search_input_field.send_keys(search_text)\n",
    "    google_search_input_field.send_keys(Keys.RETURN)\n",
    "\n",
    "    # Fun fact: the href attribute of the 28th (27th index) anchor tag on a google search webpage is the link to the first search result:\n",
    "    \n",
    "    urls = [anchor.get_attribute('href') for anchor in driver.find_elements(by=By.CSS_SELECTOR, value='div > a')]\n",
    "    # print([str(url) for url in urls])\n",
    "\n",
    "\n",
    "    output = ''\n",
    "    blacklist = [\n",
    "    '[document]',\n",
    "    'noscript',\n",
    "    'html',\n",
    "    'meta',\n",
    "     'head', \n",
    "    'input',\n",
    "    'script',\n",
    "    ]\n",
    "\n",
    "    for url in urls:\n",
    "        if url != None and re.search(r'google', str(url)) == None:\n",
    "            res = requests.get(url)\n",
    "            html_page = res.content\n",
    "            soup = BeautifulSoup(html_page, 'html.parser')\n",
    "            text = soup.find_all(text=True)\n",
    "            for t in text:\n",
    "                output += '{} '.format(t)\n",
    "            if output != '':\n",
    "                break\n",
    "\n",
    "    postcode_format_regex_list = [\n",
    "        r'[A-Z]{2}[0-9]{1}[A-Z]{1}\\s[0-9]{1}[A-Z]{2}', \n",
    "        r'[A-Z]{1}[0-9]{1}[A-Z]{1}\\s[0-9]{1}[A-Z]{2}', \n",
    "        r'[A-Z]{1}[0-9]{1}\\s[0-9]{1}[A-Z]{2}',\n",
    "        r'[A-Z]{1}[0-9]{2}\\s[0-9]{1}[A-Z]{2}', \n",
    "        r'[A-Z]{2}[0-9]{1}\\s[0-9]{1}[A-Z]{2}', \n",
    "        r'[A-Z]{2}[0-9]{2}\\s[0-9]{1}[A-Z]{2}']\n",
    "\n",
    "    print(output)\n",
    "\n",
    "    for postcode_format in postcode_format_regex_list:\n",
    "        if re.search(postcode_format, output):\n",
    "            parkrun_postcode = re.search('[A-Z]{2}[0-9]{2}\\s[0-9]{1}[A-Z]{2}', output)[0]\n",
    "            print(f'Park run: {parkrun_name}, Postcode: {parkrun_postcode}')\n",
    "\n",
    "        return parkrun_postcode"
   ]
  },
  {
   "cell_type": "code",
   "execution_count": 45,
   "metadata": {},
   "outputs": [],
   "source": [
    "url = \"https://en.wikipedia.org/wiki/List_of_Parkruns_in_the_United_Kingdom\"\n",
    "page = requests.get(url)\n",
    "\n",
    "soup = BeautifulSoup(page.content, \"html.parser\")"
   ]
  },
  {
   "cell_type": "code",
   "execution_count": 46,
   "metadata": {},
   "outputs": [
    {
     "name": "stderr",
     "output_type": "stream",
     "text": [
      "C:\\Users\\Charlie\\AppData\\Local\\Temp\\ipykernel_23468\\4087058162.py:8: DeprecationWarning: find_element_by_xpath is deprecated. Please use find_element(by=By.XPATH, value=xpath) instead\n",
      "  driver.find_element_by_xpath('//*[@id=\"L2AGLb\"]').click()\n"
     ]
    },
    {
     "name": "stdout",
     "output_type": "stream",
     "text": [
      "html \n",
      " \n",
      " \n",
      " Access denied \n",
      " \n",
      " \n",
      " \n",
      " \n",
      " \n",
      " \n",
      "(function(){if(document.addEventListener&&window.XMLHttpRequest&&JSON&&JSON.stringify){var e=function(a){var c=document.getElementById(\"error-feedback-survey\"),d=document.getElementById(\"error-feedback-success\"),b=new XMLHttpRequest;a={event:\"feedback clicked\",properties:{errorCode:1020,helpful:a,version:3}};b.open(\"POST\",\"https://sparrow.cloudflare.com/api/v1/event\");b.setRequestHeader(\"Content-Type\",\"application/json\");b.setRequestHeader(\"Sparrow-Source-Key\",\"c771f0e4b54944bebf4261d44bd79a1e\");\n",
      "b.send(JSON.stringify(a));c.classList.add(\"feedback-hidden\");d.classList.remove(\"feedback-hidden\")};document.addEventListener(\"DOMContentLoaded\",function(){var a=document.getElementById(\"error-feedback\"),c=document.getElementById(\"feedback-button-yes\"),d=document.getElementById(\"feedback-button-no\");\"classList\"in a&&(a.classList.remove(\"feedback-hidden\"),c.addEventListener(\"click\",function(){e(!0)}),d.addEventListener(\"click\",function(){e(!1)}))})}})();\n",
      " \n",
      " \n",
      "         (function(){if(document.addEventListener){var c=function(){var b=document.getElementById(\"copy-label\");document.getElementById(\"plain-ray-id\");if(navigator.clipboard)navigator.clipboard.writeText(\"6fb42bc11c9b067a\");else{var a=document.createElement(\"textarea\");a.value=\"6fb42bc11c9b067a\";a.style.top=\"0\";a.style.left=\"0\";a.style.position=\"fixed\";document.body.appendChild(a);a.focus();a.select();document.execCommand(\"copy\");document.body.removeChild(a)}b.innerText=\"Copied\"};document.addEventListener(\"DOMContentLoaded\",\n",
      "function(){var b=document.getElementById(\"plain-ray-id\"),a=document.getElementById(\"click-to-copy-btn\");\"classList\"in b&&(b.classList.add(\"hidden\"),a.classList.remove(\"hidden\"),a.addEventListener(\"click\",c))})}})();\n",
      "       \n",
      " \n",
      " \n",
      " \n",
      " \n",
      " \n",
      " \n",
      " Access denied \n",
      " Error code  1020 \n",
      " \n",
      " \n",
      " You do not have access to postcodebyaddress.co.uk. The site owner may have set restrictions that prevent you from accessing the site. Contact the site owner for access or try loading the page again. \n",
      " \n",
      " \n",
      " \n",
      " \n",
      " \n",
      " \n",
      " Additional information \n",
      " The access policies of a site define which visits are allowed. Your current visit is not allowed according to those policies. Only the site owner can change site access policies. \n",
      " \n",
      " \n",
      " I am the site owner \n",
      " \n",
      "Ray ID:\n",
      " \n",
      "6fb42bc11c9b067a\n",
      " \n",
      " \n",
      " 6fb42bc11c9b067a Copy \n",
      " \n",
      " \n",
      " \n",
      " \n",
      "Search the\n",
      " Firewall Events Log \n",
      " \n",
      "for the above Ray ID.\n",
      " \n",
      " Examine and assess the details of the access policy. \n",
      " \n",
      " \n",
      " Troubleshooting guide \n",
      " \n",
      " \n",
      " \n",
      " \n",
      " \n",
      " \n",
      " \n",
      "Was this page helpful?\n",
      " Yes \n",
      " No \n",
      " \n",
      " \n",
      "Thank you for your feedback!\n",
      " \n",
      " \n",
      " \n",
      " \n",
      "Performance & security by  Cloudflare \n",
      " \n",
      " \n",
      " \n",
      " \n",
      " \n",
      " \n",
      " \n"
     ]
    },
    {
     "ename": "UnboundLocalError",
     "evalue": "local variable 'parkrun_postcode' referenced before assignment",
     "output_type": "error",
     "traceback": [
      "\u001b[1;31m---------------------------------------------------------------------------\u001b[0m",
      "\u001b[1;31mUnboundLocalError\u001b[0m                         Traceback (most recent call last)",
      "\u001b[1;32mc:\\Users\\Charlie\\Documents\\projects\\parkrun-database\\main.ipynb Cell 10'\u001b[0m in \u001b[0;36m<cell line: 25>\u001b[1;34m()\u001b[0m\n\u001b[0;32m      <a href='vscode-notebook-cell:/c%3A/Users/Charlie/Documents/projects/parkrun-database/main.ipynb#ch0000003?line=0'>1</a>\u001b[0m \u001b[39m# rows = soup.find_all(\"tr\")[1:]\u001b[39;00m\n\u001b[0;32m      <a href='vscode-notebook-cell:/c%3A/Users/Charlie/Documents/projects/parkrun-database/main.ipynb#ch0000003?line=1'>2</a>\u001b[0m \n\u001b[0;32m      <a href='vscode-notebook-cell:/c%3A/Users/Charlie/Documents/projects/parkrun-database/main.ipynb#ch0000003?line=2'>3</a>\u001b[0m \u001b[39m# for i in range(len(rows)):\u001b[39;00m\n\u001b[1;32m   (...)\u001b[0m\n\u001b[0;32m     <a href='vscode-notebook-cell:/c%3A/Users/Charlie/Documents/projects/parkrun-database/main.ipynb#ch0000003?line=21'>22</a>\u001b[0m \u001b[39m#     except Exception as e:\u001b[39;00m\n\u001b[0;32m     <a href='vscode-notebook-cell:/c%3A/Users/Charlie/Documents/projects/parkrun-database/main.ipynb#ch0000003?line=22'>23</a>\u001b[0m \u001b[39m#         print(e)\u001b[39;00m\n\u001b[1;32m---> <a href='vscode-notebook-cell:/c%3A/Users/Charlie/Documents/projects/parkrun-database/main.ipynb#ch0000003?line=24'>25</a>\u001b[0m get_postcode(driver, \u001b[39m'\u001b[39;49m\u001b[39mBromley parkrun\u001b[39;49m\u001b[39m'\u001b[39;49m)\n",
      "\u001b[1;32mc:\\Users\\Charlie\\Documents\\projects\\parkrun-database\\main.ipynb Cell 8'\u001b[0m in \u001b[0;36mget_postcode\u001b[1;34m(driver, parkrun_name)\u001b[0m\n\u001b[0;32m     <a href='vscode-notebook-cell:/c%3A/Users/Charlie/Documents/projects/parkrun-database/main.ipynb#ch0000015?line=53'>54</a>\u001b[0m     parkrun_postcode \u001b[39m=\u001b[39m re\u001b[39m.\u001b[39msearch(\u001b[39m'\u001b[39m\u001b[39m[A-Z]\u001b[39m\u001b[39m{2}\u001b[39;00m\u001b[39m[0-9]\u001b[39m\u001b[39m{2}\u001b[39;00m\u001b[39m\\\u001b[39m\u001b[39ms[0-9]\u001b[39m\u001b[39m{1}\u001b[39;00m\u001b[39m[A-Z]\u001b[39m\u001b[39m{2}\u001b[39;00m\u001b[39m'\u001b[39m, output)[\u001b[39m0\u001b[39m]\n\u001b[0;32m     <a href='vscode-notebook-cell:/c%3A/Users/Charlie/Documents/projects/parkrun-database/main.ipynb#ch0000015?line=54'>55</a>\u001b[0m     \u001b[39mprint\u001b[39m(\u001b[39mf\u001b[39m\u001b[39m'\u001b[39m\u001b[39mPark run: \u001b[39m\u001b[39m{\u001b[39;00mparkrun_name\u001b[39m}\u001b[39;00m\u001b[39m, Postcode: \u001b[39m\u001b[39m{\u001b[39;00mparkrun_postcode\u001b[39m}\u001b[39;00m\u001b[39m'\u001b[39m)\n\u001b[1;32m---> <a href='vscode-notebook-cell:/c%3A/Users/Charlie/Documents/projects/parkrun-database/main.ipynb#ch0000015?line=56'>57</a>\u001b[0m \u001b[39mreturn\u001b[39;00m parkrun_postcode\n",
      "\u001b[1;31mUnboundLocalError\u001b[0m: local variable 'parkrun_postcode' referenced before assignment"
     ]
    }
   ],
   "source": [
    "# rows = soup.find_all(\"tr\")[1:]\n",
    "\n",
    "# for i in range(len(rows)):\n",
    "#     try:\n",
    "#         parkrun_name = rows[i].find('td').text\n",
    "\n",
    "#         if '[' in parkrun_name:\n",
    "#             parkrun_name = parkrun_name.split('[')[0]\n",
    "#         if '\\t' in parkrun_name:\n",
    "#             parkrun_name = parkrun_name.replace('\\t', ' ')\n",
    "#         if '\\n' in parkrun_name:\n",
    "#             parkrun_name = parkrun_name.replace('\\n', '')\n",
    "#         if '\\xa0' in parkrun_name:\n",
    "#             parkrun_name = parkrun_name.replace('\\xa0', ' ')\n",
    "\n",
    "#         # TODO: Refactor the above in regex\n",
    "\n",
    "#         parkrun_post_code = get_postcode(driver, parkrun_name)\n",
    "        \n",
    "#         create_parkrun(conn, parkrun_name, parkrun_post_code)\n",
    "\n",
    "#     except Exception as e:\n",
    "#         print(e)\n",
    "\n",
    "get_postcode(driver, 'Bromley parkrun')"
   ]
  },
  {
   "cell_type": "code",
   "execution_count": null,
   "metadata": {},
   "outputs": [],
   "source": [
    "def do_stuff():\n",
    "\n",
    "    # res = requests.get('https://charlie-lindsay.netlify.app/')\n",
    "    res = requests.get('https://www.streetcheck.co.uk/postcode/br13sf#:~:text=Bromley%20Park%20in%20Bromley%20is,constituency%20of%20Bromley%20and%20Chislehurst.')\n",
    "    html_page = res.content\n",
    "    soup = BeautifulSoup(html_page, 'html.parser')\n",
    "    text = soup.find_all(text=True)\n",
    "\n",
    "    output = ''\n",
    "    blacklist = [\n",
    "        '[document]',\n",
    "        'noscript',\n",
    "        'header',\n",
    "        'html',\n",
    "        'meta',\n",
    "        'head', \n",
    "        'input',\n",
    "        'script',\n",
    "    ]\n",
    "\n",
    "    for t in text:\n",
    "        if t.parent.name not in blacklist:\n",
    "            output += '{} '.format(t)\n",
    "\n",
    "    print(output)"
   ]
  },
  {
   "cell_type": "code",
   "execution_count": null,
   "metadata": {},
   "outputs": [
    {
     "name": "stdout",
     "output_type": "stream",
     "text": [
      "\n"
     ]
    }
   ],
   "source": [
    "do_stuff()"
   ]
  }
 ],
 "metadata": {
  "interpreter": {
   "hash": "3d2ca53ac42a111ca68b7f4ad893a9fec5040967cb1730354fa6d50c3a03f6b8"
  },
  "kernelspec": {
   "display_name": "Python 3.9.7 64-bit",
   "language": "python",
   "name": "python3"
  },
  "language_info": {
   "codemirror_mode": {
    "name": "ipython",
    "version": 3
   },
   "file_extension": ".py",
   "mimetype": "text/x-python",
   "name": "python",
   "nbconvert_exporter": "python",
   "pygments_lexer": "ipython3",
   "version": "3.9.7"
  },
  "orig_nbformat": 4
 },
 "nbformat": 4,
 "nbformat_minor": 2
}
